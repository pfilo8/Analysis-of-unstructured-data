{
 "cells": [
  {
   "cell_type": "code",
   "execution_count": 1,
   "metadata": {},
   "outputs": [],
   "source": [
    "import numpy as np\n",
    "import pandas as pd\n",
    "import plotly.express as px\n",
    "\n",
    "START_DATE = '2020-10-21'"
   ]
  },
  {
   "cell_type": "code",
   "execution_count": 2,
   "metadata": {},
   "outputs": [],
   "source": [
    "df_biden = pd.read_csv('data/tweets_biden.csv')\n",
    "df_trump = pd.read_csv('data/tweets_donald.csv')\n",
    "\n",
    "df_biden['author'] = 'Biden'\n",
    "df_trump['author'] = 'Trump'\n",
    "\n",
    "df = pd.concat([df_biden, df_trump])\n",
    "\n",
    "df['created_at'] = pd.to_datetime(df['created_at'])\n",
    "df = df[df['created_at'] > START_DATE]"
   ]
  },
  {
   "cell_type": "code",
   "execution_count": 3,
   "metadata": {},
   "outputs": [
    {
     "data": {
      "text/html": [
       "<div>\n",
       "<style scoped>\n",
       "    .dataframe tbody tr th:only-of-type {\n",
       "        vertical-align: middle;\n",
       "    }\n",
       "\n",
       "    .dataframe tbody tr th {\n",
       "        vertical-align: top;\n",
       "    }\n",
       "\n",
       "    .dataframe thead th {\n",
       "        text-align: right;\n",
       "    }\n",
       "</style>\n",
       "<table border=\"1\" class=\"dataframe\">\n",
       "  <thead>\n",
       "    <tr style=\"text-align: right;\">\n",
       "      <th></th>\n",
       "      <th>id</th>\n",
       "      <th>created_at</th>\n",
       "      <th>text</th>\n",
       "      <th>retweet</th>\n",
       "      <th>favorite</th>\n",
       "      <th>author</th>\n",
       "    </tr>\n",
       "  </thead>\n",
       "  <tbody>\n",
       "    <tr>\n",
       "      <th>0</th>\n",
       "      <td>1323383130435260419</td>\n",
       "      <td>2020-11-02 21:55:00</td>\n",
       "      <td>When America votes, America will be heard. And...</td>\n",
       "      <td>2200</td>\n",
       "      <td>15425</td>\n",
       "      <td>Biden</td>\n",
       "    </tr>\n",
       "    <tr>\n",
       "      <th>1</th>\n",
       "      <td>1323376838874484738</td>\n",
       "      <td>2020-11-02 21:30:00</td>\n",
       "      <td>A Biden-Harris administration will:\\n\\n- Imple...</td>\n",
       "      <td>2915</td>\n",
       "      <td>22339</td>\n",
       "      <td>Biden</td>\n",
       "    </tr>\n",
       "    <tr>\n",
       "      <th>2</th>\n",
       "      <td>1323373064277680128</td>\n",
       "      <td>2020-11-02 21:15:00</td>\n",
       "      <td>Health care. \\nCivil rights.\\nClimate change. ...</td>\n",
       "      <td>2200</td>\n",
       "      <td>13243</td>\n",
       "      <td>Biden</td>\n",
       "    </tr>\n",
       "    <tr>\n",
       "      <th>3</th>\n",
       "      <td>1323369292499484684</td>\n",
       "      <td>2020-11-02 21:00:01</td>\n",
       "      <td>Together, we're going to rebuild our economy. ...</td>\n",
       "      <td>3849</td>\n",
       "      <td>37135</td>\n",
       "      <td>Biden</td>\n",
       "    </tr>\n",
       "    <tr>\n",
       "      <th>4</th>\n",
       "      <td>1323365514400464897</td>\n",
       "      <td>2020-11-02 20:45:00</td>\n",
       "      <td>You have the power to own the outcome of this ...</td>\n",
       "      <td>1665</td>\n",
       "      <td>12021</td>\n",
       "      <td>Biden</td>\n",
       "    </tr>\n",
       "    <tr>\n",
       "      <th>...</th>\n",
       "      <td>...</td>\n",
       "      <td>...</td>\n",
       "      <td>...</td>\n",
       "      <td>...</td>\n",
       "      <td>...</td>\n",
       "      <td>...</td>\n",
       "    </tr>\n",
       "    <tr>\n",
       "      <th>196</th>\n",
       "      <td>1322295405313323009</td>\n",
       "      <td>2020-10-30 21:52:46</td>\n",
       "      <td>I’ve done more in 47 months than Joe Biden has...</td>\n",
       "      <td>13966</td>\n",
       "      <td>68384</td>\n",
       "      <td>Trump</td>\n",
       "    </tr>\n",
       "    <tr>\n",
       "      <th>197</th>\n",
       "      <td>1322294301183782912</td>\n",
       "      <td>2020-10-30 21:48:23</td>\n",
       "      <td>The Election should end on November 3rd., not ...</td>\n",
       "      <td>49187</td>\n",
       "      <td>325224</td>\n",
       "      <td>Trump</td>\n",
       "    </tr>\n",
       "    <tr>\n",
       "      <th>198</th>\n",
       "      <td>1322294145726078976</td>\n",
       "      <td>2020-10-30 21:47:46</td>\n",
       "      <td>This election is a choice between a Trump Supe...</td>\n",
       "      <td>11077</td>\n",
       "      <td>48857</td>\n",
       "      <td>Trump</td>\n",
       "    </tr>\n",
       "    <tr>\n",
       "      <th>199</th>\n",
       "      <td>1322293755328618497</td>\n",
       "      <td>2020-10-30 21:46:12</td>\n",
       "      <td>One of the most important issues is LAW &amp;amp; ...</td>\n",
       "      <td>11618</td>\n",
       "      <td>48509</td>\n",
       "      <td>Trump</td>\n",
       "    </tr>\n",
       "    <tr>\n",
       "      <th>200</th>\n",
       "      <td>1322291234753310720</td>\n",
       "      <td>2020-10-30 21:36:12</td>\n",
       "      <td>https://t.co/wl1codKkZ3</td>\n",
       "      <td>12990</td>\n",
       "      <td>66834</td>\n",
       "      <td>Trump</td>\n",
       "    </tr>\n",
       "  </tbody>\n",
       "</table>\n",
       "<p>535 rows × 6 columns</p>\n",
       "</div>"
      ],
      "text/plain": [
       "                      id          created_at  \\\n",
       "0    1323383130435260419 2020-11-02 21:55:00   \n",
       "1    1323376838874484738 2020-11-02 21:30:00   \n",
       "2    1323373064277680128 2020-11-02 21:15:00   \n",
       "3    1323369292499484684 2020-11-02 21:00:01   \n",
       "4    1323365514400464897 2020-11-02 20:45:00   \n",
       "..                   ...                 ...   \n",
       "196  1322295405313323009 2020-10-30 21:52:46   \n",
       "197  1322294301183782912 2020-10-30 21:48:23   \n",
       "198  1322294145726078976 2020-10-30 21:47:46   \n",
       "199  1322293755328618497 2020-10-30 21:46:12   \n",
       "200  1322291234753310720 2020-10-30 21:36:12   \n",
       "\n",
       "                                                  text  retweet  favorite  \\\n",
       "0    When America votes, America will be heard. And...     2200     15425   \n",
       "1    A Biden-Harris administration will:\\n\\n- Imple...     2915     22339   \n",
       "2    Health care. \\nCivil rights.\\nClimate change. ...     2200     13243   \n",
       "3    Together, we're going to rebuild our economy. ...     3849     37135   \n",
       "4    You have the power to own the outcome of this ...     1665     12021   \n",
       "..                                                 ...      ...       ...   \n",
       "196  I’ve done more in 47 months than Joe Biden has...    13966     68384   \n",
       "197  The Election should end on November 3rd., not ...    49187    325224   \n",
       "198  This election is a choice between a Trump Supe...    11077     48857   \n",
       "199  One of the most important issues is LAW &amp; ...    11618     48509   \n",
       "200                            https://t.co/wl1codKkZ3    12990     66834   \n",
       "\n",
       "    author  \n",
       "0    Biden  \n",
       "1    Biden  \n",
       "2    Biden  \n",
       "3    Biden  \n",
       "4    Biden  \n",
       "..     ...  \n",
       "196  Trump  \n",
       "197  Trump  \n",
       "198  Trump  \n",
       "199  Trump  \n",
       "200  Trump  \n",
       "\n",
       "[535 rows x 6 columns]"
      ]
     },
     "execution_count": 3,
     "metadata": {},
     "output_type": "execute_result"
    }
   ],
   "source": [
    "df"
   ]
  },
  {
   "cell_type": "code",
   "execution_count": 6,
   "metadata": {},
   "outputs": [
    {
     "data": {
      "application/vnd.plotly.v1+json": {
       "config": {
        "plotlyServerURL": "https://plot.ly"
       },
       "data": [
        {
         "hovertemplate": "author=Biden<br>created_at=%{x}<br>id=%{y}<extra></extra>",
         "legendgroup": "Biden",
         "line": {
          "color": "#636efa",
          "dash": "solid"
         },
         "mode": "lines",
         "name": "Biden",
         "orientation": "v",
         "showlegend": true,
         "type": "scatter",
         "x": [
          "2020-10-21T00:00:00",
          "2020-10-21T03:00:00",
          "2020-10-21T14:00:00",
          "2020-10-21T15:00:00",
          "2020-10-21T17:00:00",
          "2020-10-21T18:00:00",
          "2020-10-21T19:00:00",
          "2020-10-21T20:00:00",
          "2020-10-21T21:00:00",
          "2020-10-21T23:00:00",
          "2020-10-22T00:00:00",
          "2020-10-22T01:00:00",
          "2020-10-22T02:00:00",
          "2020-10-22T03:00:00",
          "2020-10-22T12:00:00",
          "2020-10-22T14:00:00",
          "2020-10-22T15:00:00",
          "2020-10-22T17:00:00",
          "2020-10-22T18:00:00",
          "2020-10-22T20:00:00",
          "2020-10-22T21:00:00",
          "2020-10-22T22:00:00",
          "2020-10-22T23:00:00",
          "2020-10-23T00:00:00",
          "2020-10-23T01:00:00",
          "2020-10-23T02:00:00",
          "2020-10-23T03:00:00",
          "2020-10-23T14:00:00",
          "2020-10-23T15:00:00",
          "2020-10-23T16:00:00",
          "2020-10-23T17:00:00",
          "2020-10-23T18:00:00",
          "2020-10-23T19:00:00",
          "2020-10-23T20:00:00",
          "2020-10-23T21:00:00",
          "2020-10-23T23:00:00",
          "2020-10-24T00:00:00",
          "2020-10-24T01:00:00",
          "2020-10-24T13:00:00",
          "2020-10-24T15:00:00",
          "2020-10-24T16:00:00",
          "2020-10-24T17:00:00",
          "2020-10-24T18:00:00",
          "2020-10-24T19:00:00",
          "2020-10-24T20:00:00",
          "2020-10-24T21:00:00",
          "2020-10-24T22:00:00",
          "2020-10-24T23:00:00",
          "2020-10-25T00:00:00",
          "2020-10-25T13:00:00",
          "2020-10-25T14:00:00",
          "2020-10-25T15:00:00",
          "2020-10-25T16:00:00",
          "2020-10-25T17:00:00",
          "2020-10-25T18:00:00",
          "2020-10-25T19:00:00",
          "2020-10-25T20:00:00",
          "2020-10-25T21:00:00",
          "2020-10-25T22:00:00",
          "2020-10-25T23:00:00",
          "2020-10-26T00:00:00",
          "2020-10-26T13:00:00",
          "2020-10-26T14:00:00",
          "2020-10-26T15:00:00",
          "2020-10-26T16:00:00",
          "2020-10-26T17:00:00",
          "2020-10-26T18:00:00",
          "2020-10-26T19:00:00",
          "2020-10-26T20:00:00",
          "2020-10-26T21:00:00",
          "2020-10-26T22:00:00",
          "2020-10-26T23:00:00",
          "2020-10-27T03:00:00",
          "2020-10-27T13:00:00",
          "2020-10-27T14:00:00",
          "2020-10-27T15:00:00",
          "2020-10-27T16:00:00",
          "2020-10-27T17:00:00",
          "2020-10-27T18:00:00",
          "2020-10-27T19:00:00",
          "2020-10-27T20:00:00",
          "2020-10-27T22:00:00",
          "2020-10-27T23:00:00",
          "2020-10-28T00:00:00",
          "2020-10-28T01:00:00",
          "2020-10-28T14:00:00",
          "2020-10-28T15:00:00",
          "2020-10-28T16:00:00",
          "2020-10-28T17:00:00",
          "2020-10-28T18:00:00",
          "2020-10-28T19:00:00",
          "2020-10-28T20:00:00",
          "2020-10-28T21:00:00",
          "2020-10-28T22:00:00",
          "2020-10-28T23:00:00",
          "2020-10-29T00:00:00",
          "2020-10-29T01:00:00",
          "2020-10-29T13:00:00",
          "2020-10-29T14:00:00",
          "2020-10-29T15:00:00",
          "2020-10-29T16:00:00",
          "2020-10-29T17:00:00",
          "2020-10-29T18:00:00",
          "2020-10-29T19:00:00",
          "2020-10-29T20:00:00",
          "2020-10-29T21:00:00",
          "2020-10-29T22:00:00",
          "2020-10-29T23:00:00",
          "2020-10-30T00:00:00",
          "2020-10-30T01:00:00",
          "2020-10-30T13:00:00",
          "2020-10-30T15:00:00",
          "2020-10-30T16:00:00",
          "2020-10-30T17:00:00",
          "2020-10-30T18:00:00",
          "2020-10-30T19:00:00",
          "2020-10-30T20:00:00",
          "2020-10-30T21:00:00",
          "2020-10-30T22:00:00",
          "2020-10-30T23:00:00",
          "2020-10-31T00:00:00",
          "2020-10-31T01:00:00",
          "2020-10-31T02:00:00",
          "2020-10-31T03:00:00",
          "2020-10-31T11:00:00",
          "2020-10-31T12:00:00",
          "2020-10-31T13:00:00",
          "2020-10-31T14:00:00",
          "2020-10-31T15:00:00",
          "2020-10-31T16:00:00",
          "2020-10-31T17:00:00",
          "2020-10-31T18:00:00",
          "2020-10-31T19:00:00",
          "2020-10-31T20:00:00",
          "2020-10-31T21:00:00",
          "2020-10-31T23:00:00",
          "2020-11-01T00:00:00",
          "2020-11-01T01:00:00",
          "2020-11-01T02:00:00",
          "2020-11-01T03:00:00",
          "2020-11-01T04:00:00",
          "2020-11-01T11:00:00",
          "2020-11-01T12:00:00",
          "2020-11-01T13:00:00",
          "2020-11-01T14:00:00",
          "2020-11-01T15:00:00",
          "2020-11-01T16:00:00",
          "2020-11-01T17:00:00",
          "2020-11-01T18:00:00",
          "2020-11-01T19:00:00",
          "2020-11-01T20:00:00",
          "2020-11-01T21:00:00",
          "2020-11-01T22:00:00",
          "2020-11-01T23:00:00",
          "2020-11-02T00:00:00",
          "2020-11-02T01:00:00",
          "2020-11-02T02:00:00",
          "2020-11-02T03:00:00",
          "2020-11-02T04:00:00",
          "2020-11-02T05:00:00",
          "2020-11-02T11:00:00",
          "2020-11-02T12:00:00",
          "2020-11-02T13:00:00",
          "2020-11-02T14:00:00",
          "2020-11-02T15:00:00",
          "2020-11-02T16:00:00",
          "2020-11-02T17:00:00",
          "2020-11-02T18:00:00",
          "2020-11-02T19:00:00",
          "2020-11-02T20:00:00",
          "2020-11-02T21:00:00"
         ],
         "xaxis": "x",
         "y": [
          1,
          1,
          2,
          1,
          1,
          1,
          2,
          2,
          2,
          2,
          1,
          1,
          1,
          1,
          1,
          1,
          1,
          2,
          2,
          1,
          1,
          1,
          1,
          2,
          12,
          12,
          2,
          1,
          2,
          1,
          2,
          1,
          1,
          2,
          1,
          3,
          1,
          1,
          2,
          1,
          2,
          2,
          3,
          2,
          1,
          1,
          3,
          1,
          2,
          2,
          1,
          1,
          2,
          2,
          1,
          1,
          2,
          1,
          1,
          2,
          1,
          1,
          3,
          2,
          1,
          2,
          2,
          1,
          1,
          1,
          2,
          1,
          2,
          1,
          1,
          1,
          1,
          2,
          1,
          2,
          1,
          2,
          2,
          3,
          1,
          1,
          3,
          1,
          2,
          2,
          2,
          1,
          1,
          2,
          1,
          1,
          3,
          1,
          2,
          1,
          2,
          1,
          1,
          3,
          3,
          2,
          1,
          2,
          1,
          1,
          1,
          2,
          2,
          2,
          1,
          1,
          2,
          1,
          2,
          2,
          1,
          3,
          1,
          2,
          2,
          2,
          2,
          2,
          1,
          1,
          3,
          2,
          2,
          3,
          1,
          5,
          3,
          3,
          3,
          3,
          2,
          1,
          3,
          3,
          3,
          4,
          3,
          3,
          3,
          3,
          1,
          3,
          2,
          3,
          3,
          3,
          3,
          2,
          3,
          2,
          1,
          3,
          3,
          2,
          4,
          3,
          2,
          2,
          3,
          4,
          4
         ],
         "yaxis": "y"
        },
        {
         "hovertemplate": "author=Trump<br>created_at=%{x}<br>id=%{y}<extra></extra>",
         "legendgroup": "Trump",
         "line": {
          "color": "#EF553B",
          "dash": "solid"
         },
         "mode": "lines",
         "name": "Trump",
         "orientation": "v",
         "showlegend": true,
         "type": "scatter",
         "x": [
          "2020-10-30T21:00:00",
          "2020-10-30T22:00:00",
          "2020-10-30T23:00:00",
          "2020-10-31T00:00:00",
          "2020-10-31T03:00:00",
          "2020-10-31T04:00:00",
          "2020-10-31T05:00:00",
          "2020-10-31T12:00:00",
          "2020-10-31T13:00:00",
          "2020-10-31T14:00:00",
          "2020-10-31T15:00:00",
          "2020-10-31T16:00:00",
          "2020-10-31T18:00:00",
          "2020-10-31T19:00:00",
          "2020-10-31T20:00:00",
          "2020-10-31T21:00:00",
          "2020-10-31T22:00:00",
          "2020-10-31T23:00:00",
          "2020-11-01T00:00:00",
          "2020-11-01T02:00:00",
          "2020-11-01T03:00:00",
          "2020-11-01T04:00:00",
          "2020-11-01T05:00:00",
          "2020-11-01T11:00:00",
          "2020-11-01T12:00:00",
          "2020-11-01T13:00:00",
          "2020-11-01T14:00:00",
          "2020-11-01T15:00:00",
          "2020-11-01T16:00:00",
          "2020-11-01T17:00:00",
          "2020-11-01T18:00:00",
          "2020-11-01T19:00:00",
          "2020-11-01T21:00:00",
          "2020-11-01T22:00:00",
          "2020-11-02T00:00:00",
          "2020-11-02T01:00:00",
          "2020-11-02T03:00:00",
          "2020-11-02T04:00:00",
          "2020-11-02T05:00:00",
          "2020-11-02T06:00:00",
          "2020-11-02T13:00:00",
          "2020-11-02T14:00:00",
          "2020-11-02T15:00:00",
          "2020-11-02T16:00:00",
          "2020-11-02T18:00:00",
          "2020-11-02T19:00:00",
          "2020-11-02T21:00:00"
         ],
         "xaxis": "x",
         "y": [
          5,
          1,
          2,
          7,
          2,
          1,
          2,
          3,
          2,
          1,
          21,
          1,
          5,
          1,
          6,
          4,
          1,
          3,
          3,
          5,
          10,
          3,
          5,
          4,
          1,
          3,
          1,
          5,
          2,
          7,
          1,
          3,
          3,
          9,
          1,
          1,
          4,
          8,
          1,
          7,
          1,
          1,
          2,
          11,
          15,
          5,
          11
         ],
         "yaxis": "y"
        }
       ],
       "layout": {
        "legend": {
         "title": {
          "text": "author"
         },
         "tracegroupgap": 0
        },
        "margin": {
         "t": 60
        },
        "template": {
         "data": {
          "bar": [
           {
            "error_x": {
             "color": "#2a3f5f"
            },
            "error_y": {
             "color": "#2a3f5f"
            },
            "marker": {
             "line": {
              "color": "#E5ECF6",
              "width": 0.5
             }
            },
            "type": "bar"
           }
          ],
          "barpolar": [
           {
            "marker": {
             "line": {
              "color": "#E5ECF6",
              "width": 0.5
             }
            },
            "type": "barpolar"
           }
          ],
          "carpet": [
           {
            "aaxis": {
             "endlinecolor": "#2a3f5f",
             "gridcolor": "white",
             "linecolor": "white",
             "minorgridcolor": "white",
             "startlinecolor": "#2a3f5f"
            },
            "baxis": {
             "endlinecolor": "#2a3f5f",
             "gridcolor": "white",
             "linecolor": "white",
             "minorgridcolor": "white",
             "startlinecolor": "#2a3f5f"
            },
            "type": "carpet"
           }
          ],
          "choropleth": [
           {
            "colorbar": {
             "outlinewidth": 0,
             "ticks": ""
            },
            "type": "choropleth"
           }
          ],
          "contour": [
           {
            "colorbar": {
             "outlinewidth": 0,
             "ticks": ""
            },
            "colorscale": [
             [
              0,
              "#0d0887"
             ],
             [
              0.1111111111111111,
              "#46039f"
             ],
             [
              0.2222222222222222,
              "#7201a8"
             ],
             [
              0.3333333333333333,
              "#9c179e"
             ],
             [
              0.4444444444444444,
              "#bd3786"
             ],
             [
              0.5555555555555556,
              "#d8576b"
             ],
             [
              0.6666666666666666,
              "#ed7953"
             ],
             [
              0.7777777777777778,
              "#fb9f3a"
             ],
             [
              0.8888888888888888,
              "#fdca26"
             ],
             [
              1,
              "#f0f921"
             ]
            ],
            "type": "contour"
           }
          ],
          "contourcarpet": [
           {
            "colorbar": {
             "outlinewidth": 0,
             "ticks": ""
            },
            "type": "contourcarpet"
           }
          ],
          "heatmap": [
           {
            "colorbar": {
             "outlinewidth": 0,
             "ticks": ""
            },
            "colorscale": [
             [
              0,
              "#0d0887"
             ],
             [
              0.1111111111111111,
              "#46039f"
             ],
             [
              0.2222222222222222,
              "#7201a8"
             ],
             [
              0.3333333333333333,
              "#9c179e"
             ],
             [
              0.4444444444444444,
              "#bd3786"
             ],
             [
              0.5555555555555556,
              "#d8576b"
             ],
             [
              0.6666666666666666,
              "#ed7953"
             ],
             [
              0.7777777777777778,
              "#fb9f3a"
             ],
             [
              0.8888888888888888,
              "#fdca26"
             ],
             [
              1,
              "#f0f921"
             ]
            ],
            "type": "heatmap"
           }
          ],
          "heatmapgl": [
           {
            "colorbar": {
             "outlinewidth": 0,
             "ticks": ""
            },
            "colorscale": [
             [
              0,
              "#0d0887"
             ],
             [
              0.1111111111111111,
              "#46039f"
             ],
             [
              0.2222222222222222,
              "#7201a8"
             ],
             [
              0.3333333333333333,
              "#9c179e"
             ],
             [
              0.4444444444444444,
              "#bd3786"
             ],
             [
              0.5555555555555556,
              "#d8576b"
             ],
             [
              0.6666666666666666,
              "#ed7953"
             ],
             [
              0.7777777777777778,
              "#fb9f3a"
             ],
             [
              0.8888888888888888,
              "#fdca26"
             ],
             [
              1,
              "#f0f921"
             ]
            ],
            "type": "heatmapgl"
           }
          ],
          "histogram": [
           {
            "marker": {
             "colorbar": {
              "outlinewidth": 0,
              "ticks": ""
             }
            },
            "type": "histogram"
           }
          ],
          "histogram2d": [
           {
            "colorbar": {
             "outlinewidth": 0,
             "ticks": ""
            },
            "colorscale": [
             [
              0,
              "#0d0887"
             ],
             [
              0.1111111111111111,
              "#46039f"
             ],
             [
              0.2222222222222222,
              "#7201a8"
             ],
             [
              0.3333333333333333,
              "#9c179e"
             ],
             [
              0.4444444444444444,
              "#bd3786"
             ],
             [
              0.5555555555555556,
              "#d8576b"
             ],
             [
              0.6666666666666666,
              "#ed7953"
             ],
             [
              0.7777777777777778,
              "#fb9f3a"
             ],
             [
              0.8888888888888888,
              "#fdca26"
             ],
             [
              1,
              "#f0f921"
             ]
            ],
            "type": "histogram2d"
           }
          ],
          "histogram2dcontour": [
           {
            "colorbar": {
             "outlinewidth": 0,
             "ticks": ""
            },
            "colorscale": [
             [
              0,
              "#0d0887"
             ],
             [
              0.1111111111111111,
              "#46039f"
             ],
             [
              0.2222222222222222,
              "#7201a8"
             ],
             [
              0.3333333333333333,
              "#9c179e"
             ],
             [
              0.4444444444444444,
              "#bd3786"
             ],
             [
              0.5555555555555556,
              "#d8576b"
             ],
             [
              0.6666666666666666,
              "#ed7953"
             ],
             [
              0.7777777777777778,
              "#fb9f3a"
             ],
             [
              0.8888888888888888,
              "#fdca26"
             ],
             [
              1,
              "#f0f921"
             ]
            ],
            "type": "histogram2dcontour"
           }
          ],
          "mesh3d": [
           {
            "colorbar": {
             "outlinewidth": 0,
             "ticks": ""
            },
            "type": "mesh3d"
           }
          ],
          "parcoords": [
           {
            "line": {
             "colorbar": {
              "outlinewidth": 0,
              "ticks": ""
             }
            },
            "type": "parcoords"
           }
          ],
          "pie": [
           {
            "automargin": true,
            "type": "pie"
           }
          ],
          "scatter": [
           {
            "marker": {
             "colorbar": {
              "outlinewidth": 0,
              "ticks": ""
             }
            },
            "type": "scatter"
           }
          ],
          "scatter3d": [
           {
            "line": {
             "colorbar": {
              "outlinewidth": 0,
              "ticks": ""
             }
            },
            "marker": {
             "colorbar": {
              "outlinewidth": 0,
              "ticks": ""
             }
            },
            "type": "scatter3d"
           }
          ],
          "scattercarpet": [
           {
            "marker": {
             "colorbar": {
              "outlinewidth": 0,
              "ticks": ""
             }
            },
            "type": "scattercarpet"
           }
          ],
          "scattergeo": [
           {
            "marker": {
             "colorbar": {
              "outlinewidth": 0,
              "ticks": ""
             }
            },
            "type": "scattergeo"
           }
          ],
          "scattergl": [
           {
            "marker": {
             "colorbar": {
              "outlinewidth": 0,
              "ticks": ""
             }
            },
            "type": "scattergl"
           }
          ],
          "scattermapbox": [
           {
            "marker": {
             "colorbar": {
              "outlinewidth": 0,
              "ticks": ""
             }
            },
            "type": "scattermapbox"
           }
          ],
          "scatterpolar": [
           {
            "marker": {
             "colorbar": {
              "outlinewidth": 0,
              "ticks": ""
             }
            },
            "type": "scatterpolar"
           }
          ],
          "scatterpolargl": [
           {
            "marker": {
             "colorbar": {
              "outlinewidth": 0,
              "ticks": ""
             }
            },
            "type": "scatterpolargl"
           }
          ],
          "scatterternary": [
           {
            "marker": {
             "colorbar": {
              "outlinewidth": 0,
              "ticks": ""
             }
            },
            "type": "scatterternary"
           }
          ],
          "surface": [
           {
            "colorbar": {
             "outlinewidth": 0,
             "ticks": ""
            },
            "colorscale": [
             [
              0,
              "#0d0887"
             ],
             [
              0.1111111111111111,
              "#46039f"
             ],
             [
              0.2222222222222222,
              "#7201a8"
             ],
             [
              0.3333333333333333,
              "#9c179e"
             ],
             [
              0.4444444444444444,
              "#bd3786"
             ],
             [
              0.5555555555555556,
              "#d8576b"
             ],
             [
              0.6666666666666666,
              "#ed7953"
             ],
             [
              0.7777777777777778,
              "#fb9f3a"
             ],
             [
              0.8888888888888888,
              "#fdca26"
             ],
             [
              1,
              "#f0f921"
             ]
            ],
            "type": "surface"
           }
          ],
          "table": [
           {
            "cells": {
             "fill": {
              "color": "#EBF0F8"
             },
             "line": {
              "color": "white"
             }
            },
            "header": {
             "fill": {
              "color": "#C8D4E3"
             },
             "line": {
              "color": "white"
             }
            },
            "type": "table"
           }
          ]
         },
         "layout": {
          "annotationdefaults": {
           "arrowcolor": "#2a3f5f",
           "arrowhead": 0,
           "arrowwidth": 1
          },
          "coloraxis": {
           "colorbar": {
            "outlinewidth": 0,
            "ticks": ""
           }
          },
          "colorscale": {
           "diverging": [
            [
             0,
             "#8e0152"
            ],
            [
             0.1,
             "#c51b7d"
            ],
            [
             0.2,
             "#de77ae"
            ],
            [
             0.3,
             "#f1b6da"
            ],
            [
             0.4,
             "#fde0ef"
            ],
            [
             0.5,
             "#f7f7f7"
            ],
            [
             0.6,
             "#e6f5d0"
            ],
            [
             0.7,
             "#b8e186"
            ],
            [
             0.8,
             "#7fbc41"
            ],
            [
             0.9,
             "#4d9221"
            ],
            [
             1,
             "#276419"
            ]
           ],
           "sequential": [
            [
             0,
             "#0d0887"
            ],
            [
             0.1111111111111111,
             "#46039f"
            ],
            [
             0.2222222222222222,
             "#7201a8"
            ],
            [
             0.3333333333333333,
             "#9c179e"
            ],
            [
             0.4444444444444444,
             "#bd3786"
            ],
            [
             0.5555555555555556,
             "#d8576b"
            ],
            [
             0.6666666666666666,
             "#ed7953"
            ],
            [
             0.7777777777777778,
             "#fb9f3a"
            ],
            [
             0.8888888888888888,
             "#fdca26"
            ],
            [
             1,
             "#f0f921"
            ]
           ],
           "sequentialminus": [
            [
             0,
             "#0d0887"
            ],
            [
             0.1111111111111111,
             "#46039f"
            ],
            [
             0.2222222222222222,
             "#7201a8"
            ],
            [
             0.3333333333333333,
             "#9c179e"
            ],
            [
             0.4444444444444444,
             "#bd3786"
            ],
            [
             0.5555555555555556,
             "#d8576b"
            ],
            [
             0.6666666666666666,
             "#ed7953"
            ],
            [
             0.7777777777777778,
             "#fb9f3a"
            ],
            [
             0.8888888888888888,
             "#fdca26"
            ],
            [
             1,
             "#f0f921"
            ]
           ]
          },
          "colorway": [
           "#636efa",
           "#EF553B",
           "#00cc96",
           "#ab63fa",
           "#FFA15A",
           "#19d3f3",
           "#FF6692",
           "#B6E880",
           "#FF97FF",
           "#FECB52"
          ],
          "font": {
           "color": "#2a3f5f"
          },
          "geo": {
           "bgcolor": "white",
           "lakecolor": "white",
           "landcolor": "#E5ECF6",
           "showlakes": true,
           "showland": true,
           "subunitcolor": "white"
          },
          "hoverlabel": {
           "align": "left"
          },
          "hovermode": "closest",
          "mapbox": {
           "style": "light"
          },
          "paper_bgcolor": "white",
          "plot_bgcolor": "#E5ECF6",
          "polar": {
           "angularaxis": {
            "gridcolor": "white",
            "linecolor": "white",
            "ticks": ""
           },
           "bgcolor": "#E5ECF6",
           "radialaxis": {
            "gridcolor": "white",
            "linecolor": "white",
            "ticks": ""
           }
          },
          "scene": {
           "xaxis": {
            "backgroundcolor": "#E5ECF6",
            "gridcolor": "white",
            "gridwidth": 2,
            "linecolor": "white",
            "showbackground": true,
            "ticks": "",
            "zerolinecolor": "white"
           },
           "yaxis": {
            "backgroundcolor": "#E5ECF6",
            "gridcolor": "white",
            "gridwidth": 2,
            "linecolor": "white",
            "showbackground": true,
            "ticks": "",
            "zerolinecolor": "white"
           },
           "zaxis": {
            "backgroundcolor": "#E5ECF6",
            "gridcolor": "white",
            "gridwidth": 2,
            "linecolor": "white",
            "showbackground": true,
            "ticks": "",
            "zerolinecolor": "white"
           }
          },
          "shapedefaults": {
           "line": {
            "color": "#2a3f5f"
           }
          },
          "ternary": {
           "aaxis": {
            "gridcolor": "white",
            "linecolor": "white",
            "ticks": ""
           },
           "baxis": {
            "gridcolor": "white",
            "linecolor": "white",
            "ticks": ""
           },
           "bgcolor": "#E5ECF6",
           "caxis": {
            "gridcolor": "white",
            "linecolor": "white",
            "ticks": ""
           }
          },
          "title": {
           "x": 0.05
          },
          "xaxis": {
           "automargin": true,
           "gridcolor": "white",
           "linecolor": "white",
           "ticks": "",
           "title": {
            "standoff": 15
           },
           "zerolinecolor": "white",
           "zerolinewidth": 2
          },
          "yaxis": {
           "automargin": true,
           "gridcolor": "white",
           "linecolor": "white",
           "ticks": "",
           "title": {
            "standoff": 15
           },
           "zerolinecolor": "white",
           "zerolinewidth": 2
          }
         }
        },
        "xaxis": {
         "anchor": "y",
         "domain": [
          0,
          1
         ],
         "title": {
          "text": "created_at"
         }
        },
        "yaxis": {
         "anchor": "x",
         "domain": [
          0,
          1
         ],
         "title": {
          "text": "id"
         }
        }
       }
      },
      "text/html": [
       "<div>                            <div id=\"4b3d8030-016a-4c19-a190-9318f761babb\" class=\"plotly-graph-div\" style=\"height:525px; width:100%;\"></div>            <script type=\"text/javascript\">                require([\"plotly\"], function(Plotly) {                    window.PLOTLYENV=window.PLOTLYENV || {};                                    if (document.getElementById(\"4b3d8030-016a-4c19-a190-9318f761babb\")) {                    Plotly.newPlot(                        \"4b3d8030-016a-4c19-a190-9318f761babb\",                        [{\"hovertemplate\": \"author=Biden<br>created_at=%{x}<br>id=%{y}<extra></extra>\", \"legendgroup\": \"Biden\", \"line\": {\"color\": \"#636efa\", \"dash\": \"solid\"}, \"mode\": \"lines\", \"name\": \"Biden\", \"orientation\": \"v\", \"showlegend\": true, \"type\": \"scatter\", \"x\": [\"2020-10-21T00:00:00\", \"2020-10-21T03:00:00\", \"2020-10-21T14:00:00\", \"2020-10-21T15:00:00\", \"2020-10-21T17:00:00\", \"2020-10-21T18:00:00\", \"2020-10-21T19:00:00\", \"2020-10-21T20:00:00\", \"2020-10-21T21:00:00\", \"2020-10-21T23:00:00\", \"2020-10-22T00:00:00\", \"2020-10-22T01:00:00\", \"2020-10-22T02:00:00\", \"2020-10-22T03:00:00\", \"2020-10-22T12:00:00\", \"2020-10-22T14:00:00\", \"2020-10-22T15:00:00\", \"2020-10-22T17:00:00\", \"2020-10-22T18:00:00\", \"2020-10-22T20:00:00\", \"2020-10-22T21:00:00\", \"2020-10-22T22:00:00\", \"2020-10-22T23:00:00\", \"2020-10-23T00:00:00\", \"2020-10-23T01:00:00\", \"2020-10-23T02:00:00\", \"2020-10-23T03:00:00\", \"2020-10-23T14:00:00\", \"2020-10-23T15:00:00\", \"2020-10-23T16:00:00\", \"2020-10-23T17:00:00\", \"2020-10-23T18:00:00\", \"2020-10-23T19:00:00\", \"2020-10-23T20:00:00\", \"2020-10-23T21:00:00\", \"2020-10-23T23:00:00\", \"2020-10-24T00:00:00\", \"2020-10-24T01:00:00\", \"2020-10-24T13:00:00\", \"2020-10-24T15:00:00\", \"2020-10-24T16:00:00\", \"2020-10-24T17:00:00\", \"2020-10-24T18:00:00\", \"2020-10-24T19:00:00\", \"2020-10-24T20:00:00\", \"2020-10-24T21:00:00\", \"2020-10-24T22:00:00\", \"2020-10-24T23:00:00\", \"2020-10-25T00:00:00\", \"2020-10-25T13:00:00\", \"2020-10-25T14:00:00\", \"2020-10-25T15:00:00\", \"2020-10-25T16:00:00\", \"2020-10-25T17:00:00\", \"2020-10-25T18:00:00\", \"2020-10-25T19:00:00\", \"2020-10-25T20:00:00\", \"2020-10-25T21:00:00\", \"2020-10-25T22:00:00\", \"2020-10-25T23:00:00\", \"2020-10-26T00:00:00\", \"2020-10-26T13:00:00\", \"2020-10-26T14:00:00\", \"2020-10-26T15:00:00\", \"2020-10-26T16:00:00\", \"2020-10-26T17:00:00\", \"2020-10-26T18:00:00\", \"2020-10-26T19:00:00\", \"2020-10-26T20:00:00\", \"2020-10-26T21:00:00\", \"2020-10-26T22:00:00\", \"2020-10-26T23:00:00\", \"2020-10-27T03:00:00\", \"2020-10-27T13:00:00\", \"2020-10-27T14:00:00\", \"2020-10-27T15:00:00\", \"2020-10-27T16:00:00\", \"2020-10-27T17:00:00\", \"2020-10-27T18:00:00\", \"2020-10-27T19:00:00\", \"2020-10-27T20:00:00\", \"2020-10-27T22:00:00\", \"2020-10-27T23:00:00\", \"2020-10-28T00:00:00\", \"2020-10-28T01:00:00\", \"2020-10-28T14:00:00\", \"2020-10-28T15:00:00\", \"2020-10-28T16:00:00\", \"2020-10-28T17:00:00\", \"2020-10-28T18:00:00\", \"2020-10-28T19:00:00\", \"2020-10-28T20:00:00\", \"2020-10-28T21:00:00\", \"2020-10-28T22:00:00\", \"2020-10-28T23:00:00\", \"2020-10-29T00:00:00\", \"2020-10-29T01:00:00\", \"2020-10-29T13:00:00\", \"2020-10-29T14:00:00\", \"2020-10-29T15:00:00\", \"2020-10-29T16:00:00\", \"2020-10-29T17:00:00\", \"2020-10-29T18:00:00\", \"2020-10-29T19:00:00\", \"2020-10-29T20:00:00\", \"2020-10-29T21:00:00\", \"2020-10-29T22:00:00\", \"2020-10-29T23:00:00\", \"2020-10-30T00:00:00\", \"2020-10-30T01:00:00\", \"2020-10-30T13:00:00\", \"2020-10-30T15:00:00\", \"2020-10-30T16:00:00\", \"2020-10-30T17:00:00\", \"2020-10-30T18:00:00\", \"2020-10-30T19:00:00\", \"2020-10-30T20:00:00\", \"2020-10-30T21:00:00\", \"2020-10-30T22:00:00\", \"2020-10-30T23:00:00\", \"2020-10-31T00:00:00\", \"2020-10-31T01:00:00\", \"2020-10-31T02:00:00\", \"2020-10-31T03:00:00\", \"2020-10-31T11:00:00\", \"2020-10-31T12:00:00\", \"2020-10-31T13:00:00\", \"2020-10-31T14:00:00\", \"2020-10-31T15:00:00\", \"2020-10-31T16:00:00\", \"2020-10-31T17:00:00\", \"2020-10-31T18:00:00\", \"2020-10-31T19:00:00\", \"2020-10-31T20:00:00\", \"2020-10-31T21:00:00\", \"2020-10-31T23:00:00\", \"2020-11-01T00:00:00\", \"2020-11-01T01:00:00\", \"2020-11-01T02:00:00\", \"2020-11-01T03:00:00\", \"2020-11-01T04:00:00\", \"2020-11-01T11:00:00\", \"2020-11-01T12:00:00\", \"2020-11-01T13:00:00\", \"2020-11-01T14:00:00\", \"2020-11-01T15:00:00\", \"2020-11-01T16:00:00\", \"2020-11-01T17:00:00\", \"2020-11-01T18:00:00\", \"2020-11-01T19:00:00\", \"2020-11-01T20:00:00\", \"2020-11-01T21:00:00\", \"2020-11-01T22:00:00\", \"2020-11-01T23:00:00\", \"2020-11-02T00:00:00\", \"2020-11-02T01:00:00\", \"2020-11-02T02:00:00\", \"2020-11-02T03:00:00\", \"2020-11-02T04:00:00\", \"2020-11-02T05:00:00\", \"2020-11-02T11:00:00\", \"2020-11-02T12:00:00\", \"2020-11-02T13:00:00\", \"2020-11-02T14:00:00\", \"2020-11-02T15:00:00\", \"2020-11-02T16:00:00\", \"2020-11-02T17:00:00\", \"2020-11-02T18:00:00\", \"2020-11-02T19:00:00\", \"2020-11-02T20:00:00\", \"2020-11-02T21:00:00\"], \"xaxis\": \"x\", \"y\": [1, 1, 2, 1, 1, 1, 2, 2, 2, 2, 1, 1, 1, 1, 1, 1, 1, 2, 2, 1, 1, 1, 1, 2, 12, 12, 2, 1, 2, 1, 2, 1, 1, 2, 1, 3, 1, 1, 2, 1, 2, 2, 3, 2, 1, 1, 3, 1, 2, 2, 1, 1, 2, 2, 1, 1, 2, 1, 1, 2, 1, 1, 3, 2, 1, 2, 2, 1, 1, 1, 2, 1, 2, 1, 1, 1, 1, 2, 1, 2, 1, 2, 2, 3, 1, 1, 3, 1, 2, 2, 2, 1, 1, 2, 1, 1, 3, 1, 2, 1, 2, 1, 1, 3, 3, 2, 1, 2, 1, 1, 1, 2, 2, 2, 1, 1, 2, 1, 2, 2, 1, 3, 1, 2, 2, 2, 2, 2, 1, 1, 3, 2, 2, 3, 1, 5, 3, 3, 3, 3, 2, 1, 3, 3, 3, 4, 3, 3, 3, 3, 1, 3, 2, 3, 3, 3, 3, 2, 3, 2, 1, 3, 3, 2, 4, 3, 2, 2, 3, 4, 4], \"yaxis\": \"y\"}, {\"hovertemplate\": \"author=Trump<br>created_at=%{x}<br>id=%{y}<extra></extra>\", \"legendgroup\": \"Trump\", \"line\": {\"color\": \"#EF553B\", \"dash\": \"solid\"}, \"mode\": \"lines\", \"name\": \"Trump\", \"orientation\": \"v\", \"showlegend\": true, \"type\": \"scatter\", \"x\": [\"2020-10-30T21:00:00\", \"2020-10-30T22:00:00\", \"2020-10-30T23:00:00\", \"2020-10-31T00:00:00\", \"2020-10-31T03:00:00\", \"2020-10-31T04:00:00\", \"2020-10-31T05:00:00\", \"2020-10-31T12:00:00\", \"2020-10-31T13:00:00\", \"2020-10-31T14:00:00\", \"2020-10-31T15:00:00\", \"2020-10-31T16:00:00\", \"2020-10-31T18:00:00\", \"2020-10-31T19:00:00\", \"2020-10-31T20:00:00\", \"2020-10-31T21:00:00\", \"2020-10-31T22:00:00\", \"2020-10-31T23:00:00\", \"2020-11-01T00:00:00\", \"2020-11-01T02:00:00\", \"2020-11-01T03:00:00\", \"2020-11-01T04:00:00\", \"2020-11-01T05:00:00\", \"2020-11-01T11:00:00\", \"2020-11-01T12:00:00\", \"2020-11-01T13:00:00\", \"2020-11-01T14:00:00\", \"2020-11-01T15:00:00\", \"2020-11-01T16:00:00\", \"2020-11-01T17:00:00\", \"2020-11-01T18:00:00\", \"2020-11-01T19:00:00\", \"2020-11-01T21:00:00\", \"2020-11-01T22:00:00\", \"2020-11-02T00:00:00\", \"2020-11-02T01:00:00\", \"2020-11-02T03:00:00\", \"2020-11-02T04:00:00\", \"2020-11-02T05:00:00\", \"2020-11-02T06:00:00\", \"2020-11-02T13:00:00\", \"2020-11-02T14:00:00\", \"2020-11-02T15:00:00\", \"2020-11-02T16:00:00\", \"2020-11-02T18:00:00\", \"2020-11-02T19:00:00\", \"2020-11-02T21:00:00\"], \"xaxis\": \"x\", \"y\": [5, 1, 2, 7, 2, 1, 2, 3, 2, 1, 21, 1, 5, 1, 6, 4, 1, 3, 3, 5, 10, 3, 5, 4, 1, 3, 1, 5, 2, 7, 1, 3, 3, 9, 1, 1, 4, 8, 1, 7, 1, 1, 2, 11, 15, 5, 11], \"yaxis\": \"y\"}],                        {\"legend\": {\"title\": {\"text\": \"author\"}, \"tracegroupgap\": 0}, \"margin\": {\"t\": 60}, \"template\": {\"data\": {\"bar\": [{\"error_x\": {\"color\": \"#2a3f5f\"}, \"error_y\": {\"color\": \"#2a3f5f\"}, \"marker\": {\"line\": {\"color\": \"#E5ECF6\", \"width\": 0.5}}, \"type\": \"bar\"}], \"barpolar\": [{\"marker\": {\"line\": {\"color\": \"#E5ECF6\", \"width\": 0.5}}, \"type\": \"barpolar\"}], \"carpet\": [{\"aaxis\": {\"endlinecolor\": \"#2a3f5f\", \"gridcolor\": \"white\", \"linecolor\": \"white\", \"minorgridcolor\": \"white\", \"startlinecolor\": \"#2a3f5f\"}, \"baxis\": {\"endlinecolor\": \"#2a3f5f\", \"gridcolor\": \"white\", \"linecolor\": \"white\", \"minorgridcolor\": \"white\", \"startlinecolor\": \"#2a3f5f\"}, \"type\": \"carpet\"}], \"choropleth\": [{\"colorbar\": {\"outlinewidth\": 0, \"ticks\": \"\"}, \"type\": \"choropleth\"}], \"contour\": [{\"colorbar\": {\"outlinewidth\": 0, \"ticks\": \"\"}, \"colorscale\": [[0.0, \"#0d0887\"], [0.1111111111111111, \"#46039f\"], [0.2222222222222222, \"#7201a8\"], [0.3333333333333333, \"#9c179e\"], [0.4444444444444444, \"#bd3786\"], [0.5555555555555556, \"#d8576b\"], [0.6666666666666666, \"#ed7953\"], [0.7777777777777778, \"#fb9f3a\"], [0.8888888888888888, \"#fdca26\"], [1.0, \"#f0f921\"]], \"type\": \"contour\"}], \"contourcarpet\": [{\"colorbar\": {\"outlinewidth\": 0, \"ticks\": \"\"}, \"type\": \"contourcarpet\"}], \"heatmap\": [{\"colorbar\": {\"outlinewidth\": 0, \"ticks\": \"\"}, \"colorscale\": [[0.0, \"#0d0887\"], [0.1111111111111111, \"#46039f\"], [0.2222222222222222, \"#7201a8\"], [0.3333333333333333, \"#9c179e\"], [0.4444444444444444, \"#bd3786\"], [0.5555555555555556, \"#d8576b\"], [0.6666666666666666, \"#ed7953\"], [0.7777777777777778, \"#fb9f3a\"], [0.8888888888888888, \"#fdca26\"], [1.0, \"#f0f921\"]], \"type\": \"heatmap\"}], \"heatmapgl\": [{\"colorbar\": {\"outlinewidth\": 0, \"ticks\": \"\"}, \"colorscale\": [[0.0, \"#0d0887\"], [0.1111111111111111, \"#46039f\"], [0.2222222222222222, \"#7201a8\"], [0.3333333333333333, \"#9c179e\"], [0.4444444444444444, \"#bd3786\"], [0.5555555555555556, \"#d8576b\"], [0.6666666666666666, \"#ed7953\"], [0.7777777777777778, \"#fb9f3a\"], [0.8888888888888888, \"#fdca26\"], [1.0, \"#f0f921\"]], \"type\": \"heatmapgl\"}], \"histogram\": [{\"marker\": {\"colorbar\": {\"outlinewidth\": 0, \"ticks\": \"\"}}, \"type\": \"histogram\"}], \"histogram2d\": [{\"colorbar\": {\"outlinewidth\": 0, \"ticks\": \"\"}, \"colorscale\": [[0.0, \"#0d0887\"], [0.1111111111111111, \"#46039f\"], [0.2222222222222222, \"#7201a8\"], [0.3333333333333333, \"#9c179e\"], [0.4444444444444444, \"#bd3786\"], [0.5555555555555556, \"#d8576b\"], [0.6666666666666666, \"#ed7953\"], [0.7777777777777778, \"#fb9f3a\"], [0.8888888888888888, \"#fdca26\"], [1.0, \"#f0f921\"]], \"type\": \"histogram2d\"}], \"histogram2dcontour\": [{\"colorbar\": {\"outlinewidth\": 0, \"ticks\": \"\"}, \"colorscale\": [[0.0, \"#0d0887\"], [0.1111111111111111, \"#46039f\"], [0.2222222222222222, \"#7201a8\"], [0.3333333333333333, \"#9c179e\"], [0.4444444444444444, \"#bd3786\"], [0.5555555555555556, \"#d8576b\"], [0.6666666666666666, \"#ed7953\"], [0.7777777777777778, \"#fb9f3a\"], [0.8888888888888888, \"#fdca26\"], [1.0, \"#f0f921\"]], \"type\": \"histogram2dcontour\"}], \"mesh3d\": [{\"colorbar\": {\"outlinewidth\": 0, \"ticks\": \"\"}, \"type\": \"mesh3d\"}], \"parcoords\": [{\"line\": {\"colorbar\": {\"outlinewidth\": 0, \"ticks\": \"\"}}, \"type\": \"parcoords\"}], \"pie\": [{\"automargin\": true, \"type\": \"pie\"}], \"scatter\": [{\"marker\": {\"colorbar\": {\"outlinewidth\": 0, \"ticks\": \"\"}}, \"type\": \"scatter\"}], \"scatter3d\": [{\"line\": {\"colorbar\": {\"outlinewidth\": 0, \"ticks\": \"\"}}, \"marker\": {\"colorbar\": {\"outlinewidth\": 0, \"ticks\": \"\"}}, \"type\": \"scatter3d\"}], \"scattercarpet\": [{\"marker\": {\"colorbar\": {\"outlinewidth\": 0, \"ticks\": \"\"}}, \"type\": \"scattercarpet\"}], \"scattergeo\": [{\"marker\": {\"colorbar\": {\"outlinewidth\": 0, \"ticks\": \"\"}}, \"type\": \"scattergeo\"}], \"scattergl\": [{\"marker\": {\"colorbar\": {\"outlinewidth\": 0, \"ticks\": \"\"}}, \"type\": \"scattergl\"}], \"scattermapbox\": [{\"marker\": {\"colorbar\": {\"outlinewidth\": 0, \"ticks\": \"\"}}, \"type\": \"scattermapbox\"}], \"scatterpolar\": [{\"marker\": {\"colorbar\": {\"outlinewidth\": 0, \"ticks\": \"\"}}, \"type\": \"scatterpolar\"}], \"scatterpolargl\": [{\"marker\": {\"colorbar\": {\"outlinewidth\": 0, \"ticks\": \"\"}}, \"type\": \"scatterpolargl\"}], \"scatterternary\": [{\"marker\": {\"colorbar\": {\"outlinewidth\": 0, \"ticks\": \"\"}}, \"type\": \"scatterternary\"}], \"surface\": [{\"colorbar\": {\"outlinewidth\": 0, \"ticks\": \"\"}, \"colorscale\": [[0.0, \"#0d0887\"], [0.1111111111111111, \"#46039f\"], [0.2222222222222222, \"#7201a8\"], [0.3333333333333333, \"#9c179e\"], [0.4444444444444444, \"#bd3786\"], [0.5555555555555556, \"#d8576b\"], [0.6666666666666666, \"#ed7953\"], [0.7777777777777778, \"#fb9f3a\"], [0.8888888888888888, \"#fdca26\"], [1.0, \"#f0f921\"]], \"type\": \"surface\"}], \"table\": [{\"cells\": {\"fill\": {\"color\": \"#EBF0F8\"}, \"line\": {\"color\": \"white\"}}, \"header\": {\"fill\": {\"color\": \"#C8D4E3\"}, \"line\": {\"color\": \"white\"}}, \"type\": \"table\"}]}, \"layout\": {\"annotationdefaults\": {\"arrowcolor\": \"#2a3f5f\", \"arrowhead\": 0, \"arrowwidth\": 1}, \"coloraxis\": {\"colorbar\": {\"outlinewidth\": 0, \"ticks\": \"\"}}, \"colorscale\": {\"diverging\": [[0, \"#8e0152\"], [0.1, \"#c51b7d\"], [0.2, \"#de77ae\"], [0.3, \"#f1b6da\"], [0.4, \"#fde0ef\"], [0.5, \"#f7f7f7\"], [0.6, \"#e6f5d0\"], [0.7, \"#b8e186\"], [0.8, \"#7fbc41\"], [0.9, \"#4d9221\"], [1, \"#276419\"]], \"sequential\": [[0.0, \"#0d0887\"], [0.1111111111111111, \"#46039f\"], [0.2222222222222222, \"#7201a8\"], [0.3333333333333333, \"#9c179e\"], [0.4444444444444444, \"#bd3786\"], [0.5555555555555556, \"#d8576b\"], [0.6666666666666666, \"#ed7953\"], [0.7777777777777778, \"#fb9f3a\"], [0.8888888888888888, \"#fdca26\"], [1.0, \"#f0f921\"]], \"sequentialminus\": [[0.0, \"#0d0887\"], [0.1111111111111111, \"#46039f\"], [0.2222222222222222, \"#7201a8\"], [0.3333333333333333, \"#9c179e\"], [0.4444444444444444, \"#bd3786\"], [0.5555555555555556, \"#d8576b\"], [0.6666666666666666, \"#ed7953\"], [0.7777777777777778, \"#fb9f3a\"], [0.8888888888888888, \"#fdca26\"], [1.0, \"#f0f921\"]]}, \"colorway\": [\"#636efa\", \"#EF553B\", \"#00cc96\", \"#ab63fa\", \"#FFA15A\", \"#19d3f3\", \"#FF6692\", \"#B6E880\", \"#FF97FF\", \"#FECB52\"], \"font\": {\"color\": \"#2a3f5f\"}, \"geo\": {\"bgcolor\": \"white\", \"lakecolor\": \"white\", \"landcolor\": \"#E5ECF6\", \"showlakes\": true, \"showland\": true, \"subunitcolor\": \"white\"}, \"hoverlabel\": {\"align\": \"left\"}, \"hovermode\": \"closest\", \"mapbox\": {\"style\": \"light\"}, \"paper_bgcolor\": \"white\", \"plot_bgcolor\": \"#E5ECF6\", \"polar\": {\"angularaxis\": {\"gridcolor\": \"white\", \"linecolor\": \"white\", \"ticks\": \"\"}, \"bgcolor\": \"#E5ECF6\", \"radialaxis\": {\"gridcolor\": \"white\", \"linecolor\": \"white\", \"ticks\": \"\"}}, \"scene\": {\"xaxis\": {\"backgroundcolor\": \"#E5ECF6\", \"gridcolor\": \"white\", \"gridwidth\": 2, \"linecolor\": \"white\", \"showbackground\": true, \"ticks\": \"\", \"zerolinecolor\": \"white\"}, \"yaxis\": {\"backgroundcolor\": \"#E5ECF6\", \"gridcolor\": \"white\", \"gridwidth\": 2, \"linecolor\": \"white\", \"showbackground\": true, \"ticks\": \"\", \"zerolinecolor\": \"white\"}, \"zaxis\": {\"backgroundcolor\": \"#E5ECF6\", \"gridcolor\": \"white\", \"gridwidth\": 2, \"linecolor\": \"white\", \"showbackground\": true, \"ticks\": \"\", \"zerolinecolor\": \"white\"}}, \"shapedefaults\": {\"line\": {\"color\": \"#2a3f5f\"}}, \"ternary\": {\"aaxis\": {\"gridcolor\": \"white\", \"linecolor\": \"white\", \"ticks\": \"\"}, \"baxis\": {\"gridcolor\": \"white\", \"linecolor\": \"white\", \"ticks\": \"\"}, \"bgcolor\": \"#E5ECF6\", \"caxis\": {\"gridcolor\": \"white\", \"linecolor\": \"white\", \"ticks\": \"\"}}, \"title\": {\"x\": 0.05}, \"xaxis\": {\"automargin\": true, \"gridcolor\": \"white\", \"linecolor\": \"white\", \"ticks\": \"\", \"title\": {\"standoff\": 15}, \"zerolinecolor\": \"white\", \"zerolinewidth\": 2}, \"yaxis\": {\"automargin\": true, \"gridcolor\": \"white\", \"linecolor\": \"white\", \"ticks\": \"\", \"title\": {\"standoff\": 15}, \"zerolinecolor\": \"white\", \"zerolinewidth\": 2}}}, \"xaxis\": {\"anchor\": \"y\", \"domain\": [0.0, 1.0], \"title\": {\"text\": \"created_at\"}}, \"yaxis\": {\"anchor\": \"x\", \"domain\": [0.0, 1.0], \"title\": {\"text\": \"id\"}}},                        {\"responsive\": true}                    ).then(function(){\n",
       "                            \n",
       "var gd = document.getElementById('4b3d8030-016a-4c19-a190-9318f761babb');\n",
       "var x = new MutationObserver(function (mutations, observer) {{\n",
       "        var display = window.getComputedStyle(gd).display;\n",
       "        if (!display || display === 'none') {{\n",
       "            console.log([gd, 'removed!']);\n",
       "            Plotly.purge(gd);\n",
       "            observer.disconnect();\n",
       "        }}\n",
       "}});\n",
       "\n",
       "// Listen for the removal of the full notebook cells\n",
       "var notebookContainer = gd.closest('#notebook-container');\n",
       "if (notebookContainer) {{\n",
       "    x.observe(notebookContainer, {childList: true});\n",
       "}}\n",
       "\n",
       "// Listen for the clearing of the current output cell\n",
       "var outputEl = gd.closest('.output');\n",
       "if (outputEl) {{\n",
       "    x.observe(outputEl, {childList: true});\n",
       "}}\n",
       "\n",
       "                        })                };                });            </script>        </div>"
      ]
     },
     "metadata": {},
     "output_type": "display_data"
    }
   ],
   "source": [
    "plot_dataframe = df.groupby(['author', pd.Grouper(key = 'created_at', freq = 'H')]).count().reset_index()\n",
    "\n",
    "px.line(\n",
    "    data_frame = plot_dataframe,\n",
    "    x = \"created_at\",\n",
    "    y = \"id\",\n",
    "    color = \"author\"\n",
    ")"
   ]
  },
  {
   "cell_type": "code",
   "execution_count": 7,
   "metadata": {},
   "outputs": [],
   "source": [
    "df_ny = pd.read_csv('data/tweets_ny.csv')"
   ]
  }
 ],
 "metadata": {
  "kernelspec": {
   "display_name": "Python 3",
   "language": "python",
   "name": "python3"
  },
  "language_info": {
   "codemirror_mode": {
    "name": "ipython",
    "version": 3
   },
   "file_extension": ".py",
   "mimetype": "text/x-python",
   "name": "python",
   "nbconvert_exporter": "python",
   "pygments_lexer": "ipython3",
   "version": "3.7.4"
  }
 },
 "nbformat": 4,
 "nbformat_minor": 2
}
