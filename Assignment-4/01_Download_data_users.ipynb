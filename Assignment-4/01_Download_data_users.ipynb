{
 "cells": [
  {
   "cell_type": "code",
   "execution_count": 1,
   "metadata": {},
   "outputs": [],
   "source": [
    "import tweepy\n",
    "\n",
    "from configuration import API_KEY, API_KEY_SECRET, ACCESS_TOKEN, ACCESS_TOKEN_SECRET\n",
    "from models.UserTweetsDownloader import UserTweetsDownloader"
   ]
  },
  {
   "cell_type": "code",
   "execution_count": 2,
   "metadata": {},
   "outputs": [],
   "source": [
    "auth = tweepy.OAuthHandler(API_KEY, API_KEY_SECRET)\n",
    "auth.set_access_token(ACCESS_TOKEN, ACCESS_TOKEN_SECRET)\n",
    "\n",
    "api = tweepy.API(auth)"
   ]
  },
  {
   "cell_type": "code",
   "execution_count": 7,
   "metadata": {},
   "outputs": [],
   "source": [
    "donald_downloader = UserTweetsDownloader(api, 'realDonaldTrump')"
   ]
  },
  {
   "cell_type": "code",
   "execution_count": 8,
   "metadata": {},
   "outputs": [
    {
     "name": "stdout",
     "output_type": "stream",
     "text": [
      "Getting tweets before 1323381654451376132\n",
      "...1 tweets downloaded so far\n"
     ]
    }
   ],
   "source": [
    "donald_downloader.download_all_tweets('data/tweets_donald.csv')"
   ]
  },
  {
   "cell_type": "code",
   "execution_count": 5,
   "metadata": {},
   "outputs": [],
   "source": [
    "biden_downloader = UserTweetsDownloader(api, 'JoeBiden')"
   ]
  },
  {
   "cell_type": "code",
   "execution_count": 6,
   "metadata": {},
   "outputs": [
    {
     "name": "stdout",
     "output_type": "stream",
     "text": [
      "Getting tweets before 1321138590789726208\n",
      "...400 tweets downloaded so far\n",
      "Getting tweets before 1317200207629733888\n",
      "...600 tweets downloaded so far\n",
      "Getting tweets before 1313544299955417088\n",
      "...800 tweets downloaded so far\n",
      "Getting tweets before 1307747067960258559\n",
      "...1000 tweets downloaded so far\n",
      "Getting tweets before 1300494058746458115\n",
      "...1200 tweets downloaded so far\n",
      "Getting tweets before 1295526318084255743\n",
      "...1400 tweets downloaded so far\n",
      "Getting tweets before 1287484334178525191\n",
      "...1600 tweets downloaded so far\n",
      "Getting tweets before 1277368680276344831\n",
      "...1800 tweets downloaded so far\n",
      "Getting tweets before 1267832845608747008\n",
      "...2000 tweets downloaded so far\n",
      "Getting tweets before 1258835057101410309\n",
      "...2200 tweets downloaded so far\n",
      "Getting tweets before 1250831570031775744\n",
      "...2400 tweets downloaded so far\n",
      "Getting tweets before 1242545627768197122\n",
      "...2600 tweets downloaded so far\n",
      "Getting tweets before 1235365660957474815\n",
      "...2800 tweets downloaded so far\n",
      "Getting tweets before 1230339806938517509\n",
      "...3000 tweets downloaded so far\n",
      "Getting tweets before 1222602815505301509\n",
      "...3200 tweets downloaded so far\n",
      "Getting tweets before 1211698965441372159\n",
      "...3232 tweets downloaded so far\n",
      "Getting tweets before 1208828299629277189\n",
      "...3232 tweets downloaded so far\n"
     ]
    }
   ],
   "source": [
    "biden_downloader.download_all_tweets('data/tweets_biden.csv')"
   ]
  }
 ],
 "metadata": {
  "kernelspec": {
   "display_name": "Python 3",
   "language": "python",
   "name": "python3"
  },
  "language_info": {
   "codemirror_mode": {
    "name": "ipython",
    "version": 3
   },
   "file_extension": ".py",
   "mimetype": "text/x-python",
   "name": "python",
   "nbconvert_exporter": "python",
   "pygments_lexer": "ipython3",
   "version": "3.7.4"
  }
 },
 "nbformat": 4,
 "nbformat_minor": 2
}
