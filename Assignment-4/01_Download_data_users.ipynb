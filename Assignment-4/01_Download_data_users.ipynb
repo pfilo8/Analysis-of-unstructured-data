{
 "cells": [
  {
   "cell_type": "code",
   "execution_count": 1,
   "metadata": {},
   "outputs": [],
   "source": [
    "import tweepy\n",
    "\n",
    "from configuration import API_KEY, API_KEY_SECRET, ACCESS_TOKEN, ACCESS_TOKEN_SECRET\n",
    "from models.UserTweetsDownloader import UserTweetsDownloader"
   ]
  },
  {
   "cell_type": "code",
   "execution_count": 2,
   "metadata": {},
   "outputs": [],
   "source": [
    "auth = tweepy.OAuthHandler(API_KEY, API_KEY_SECRET)\n",
    "auth.set_access_token(ACCESS_TOKEN, ACCESS_TOKEN_SECRET)\n",
    "\n",
    "api = tweepy.API(auth)"
   ]
  },
  {
   "cell_type": "code",
   "execution_count": 3,
   "metadata": {},
   "outputs": [],
   "source": [
    "donald_downloader = UserTweetsDownloader(api, 'jorgensen4potus')"
   ]
  },
  {
   "cell_type": "code",
   "execution_count": 5,
   "metadata": {},
   "outputs": [
    {
     "name": "stdout",
     "output_type": "stream",
     "text": [
      "Getting tweets before 1324059767581671424\n",
      "...261 tweets downloaded so far\n",
      "Getting tweets before 1322653650200588288\n",
      "...461 tweets downloaded so far\n",
      "Getting tweets before 1321230803083382783\n",
      "...661 tweets downloaded so far\n",
      "Getting tweets before 1320163234926764031\n",
      "...661 tweets downloaded so far\n"
     ]
    }
   ],
   "source": [
    "donald_downloader.download_all_tweets('data/tweets_jorgensen.csv')"
   ]
  },
  {
   "cell_type": "code",
   "execution_count": 6,
   "metadata": {},
   "outputs": [],
   "source": [
    "biden_downloader = UserTweetsDownloader(api, 'JoeBiden')"
   ]
  },
  {
   "cell_type": "code",
   "execution_count": 7,
   "metadata": {},
   "outputs": [
    {
     "name": "stdout",
     "output_type": "stream",
     "text": [
      "Getting tweets before 1322886357535150080\n",
      "...400 tweets downloaded so far\n",
      "Getting tweets before 1319473619941031936\n",
      "...600 tweets downloaded so far\n",
      "Getting tweets before 1315768958742491135\n",
      "...800 tweets downloaded so far\n",
      "Getting tweets before 1311415774687395839\n",
      "...1000 tweets downloaded so far\n",
      "Getting tweets before 1305260921367990276\n",
      "...1200 tweets downloaded so far\n",
      "Getting tweets before 1298330301048016897\n",
      "...1400 tweets downloaded so far\n",
      "Getting tweets before 1292445526005252095\n",
      "...1600 tweets downloaded so far\n",
      "Getting tweets before 1283492028177940484\n",
      "...1800 tweets downloaded so far\n",
      "Getting tweets before 1273410413569495039\n",
      "...2000 tweets downloaded so far\n",
      "Getting tweets before 1263829969593004033\n",
      "...2200 tweets downloaded so far\n",
      "Getting tweets before 1255636983793082369\n",
      "...2400 tweets downloaded so far\n",
      "Getting tweets before 1247891970912993279\n",
      "...2600 tweets downloaded so far\n",
      "Getting tweets before 1239653917740466178\n",
      "...2800 tweets downloaded so far\n",
      "Getting tweets before 1233840611939061764\n",
      "...3000 tweets downloaded so far\n",
      "Getting tweets before 1227417485386715135\n",
      "...3200 tweets downloaded so far\n",
      "Getting tweets before 1218294441255014402\n",
      "...3201 tweets downloaded so far\n",
      "Getting tweets before 1218285113164824576\n",
      "...3201 tweets downloaded so far\n"
     ]
    }
   ],
   "source": [
    "biden_downloader.download_all_tweets('data/tweets_biden2.csv')"
   ]
  }
 ],
 "metadata": {
  "kernelspec": {
   "display_name": "Python 3",
   "language": "python",
   "name": "python3"
  },
  "language_info": {
   "codemirror_mode": {
    "name": "ipython",
    "version": 3
   },
   "file_extension": ".py",
   "mimetype": "text/x-python",
   "name": "python",
   "nbconvert_exporter": "python",
   "pygments_lexer": "ipython3",
   "version": "3.7.4"
  }
 },
 "nbformat": 4,
 "nbformat_minor": 2
}
