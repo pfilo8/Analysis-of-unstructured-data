{
 "cells": [
  {
   "cell_type": "code",
   "execution_count": 5,
   "metadata": {},
   "outputs": [],
   "source": [
    "import tweepy\n",
    "\n",
    "from configuration import API_KEY, API_KEY_SECRET, ACCESS_TOKEN, ACCESS_TOKEN_SECRET\n",
    "from models.HashtagTweetsDownloader import HashtagTweetsDownloader"
   ]
  },
  {
   "cell_type": "code",
   "execution_count": 6,
   "metadata": {},
   "outputs": [],
   "source": [
    "auth = tweepy.OAuthHandler(API_KEY, API_KEY_SECRET)\n",
    "auth.set_access_token(ACCESS_TOKEN, ACCESS_TOKEN_SECRET)\n",
    "\n",
    "api = tweepy.API(auth)"
   ]
  },
  {
   "cell_type": "code",
   "execution_count": 7,
   "metadata": {},
   "outputs": [],
   "source": [
    "query = \"#GE2020 OR #GE20 OR #GeneralElection OR #GeneralElection2020 OR #Election2020\"\n",
    "\n",
    "geos = [\n",
    "#    \"40.6976633,-74.1201073,100km\", # New York\n",
    "#    \"34.0207289,-118.6926019,100km\", # Los Angeles\n",
    "    \"32.8208747,-96.8719694,100km\" # Dallas\n",
    "]\n",
    "\n",
    "locations = [\n",
    "#    \"ny\",\n",
    "#    \"la\",\n",
    "    \"dallas\"\n",
    "]\n",
    "\n",
    "lang = \"en\""
   ]
  },
  {
   "cell_type": "code",
   "execution_count": 8,
   "metadata": {},
   "outputs": [
    {
     "name": "stdout",
     "output_type": "stream",
     "text": [
      "Location: dallas\n"
     ]
    }
   ],
   "source": [
    "for geo, location in zip(geos, locations):\n",
    "    print(f'Location: {location}')\n",
    "    hashtag_downloader = HashtagTweetsDownloader(api)\n",
    "    hashtag_downloader.download_all_tweets(f'data/tweets_{location}.csv', q = query, lang = lang, geocode = geo)"
   ]
  }
 ],
 "metadata": {
  "kernelspec": {
   "display_name": "Python 3",
   "language": "python",
   "name": "python3"
  },
  "language_info": {
   "codemirror_mode": {
    "name": "ipython",
    "version": 3
   },
   "file_extension": ".py",
   "mimetype": "text/x-python",
   "name": "python",
   "nbconvert_exporter": "python",
   "pygments_lexer": "ipython3",
   "version": "3.7.4"
  }
 },
 "nbformat": 4,
 "nbformat_minor": 2
}
